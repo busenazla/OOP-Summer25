{
 "cells": [
  {
   "cell_type": "code",
   "execution_count": 9,
   "id": "879b236a",
   "metadata": {},
   "outputs": [
    {
     "name": "stdout",
     "output_type": "stream",
     "text": [
      "An animal has been created!\n",
      "An animal has been created!\n",
      "An animal has been created!\n"
     ]
    }
   ],
   "source": [
    "class Animal:\n",
    "    def __init__(self):\n",
    "        print(\"An animal has been created!\")\n",
    "\n",
    "animal1 = Animal()\n",
    "animal2 = Animal()\n",
    "animal3 = Animal()\n"
   ]
  },
  {
   "cell_type": "code",
   "execution_count": 15,
   "id": "adf68040",
   "metadata": {},
   "outputs": [
    {
     "name": "stdout",
     "output_type": "stream",
     "text": [
      "Toyota Camry\n",
      "Honda Civic\n",
      "Ford Mustang\n"
     ]
    }
   ],
   "source": [
    "class Car:\n",
    "     def __init__(self, brand, model):\n",
    "        self.brand = brand\n",
    "        self.model = model\n",
    "\n",
    "car1 = Car(\"Toyota\", \"Camry\")\n",
    "car2 = Car(\"Honda\", \"Civic\")\n",
    "car3 = Car(\"Ford\", \"Mustang\")\n",
    "\n",
    "\n",
    "print(car1.brand, car1.model)\n",
    "print(car2.brand, car2.model)\n",
    "print(car3.brand, car3.model)\n"
   ]
  },
  {
   "cell_type": "code",
   "execution_count": 16,
   "id": "3f611837",
   "metadata": {},
   "outputs": [
    {
     "name": "stdout",
     "output_type": "stream",
     "text": [
      "House in istanbul, Turkey on beylikduzu with 2 floor(s) and furniture: sofa, table, bed\n",
      "House in izmit, Turkey on 28devran caddesi with 3 floor(s) and furniture: chair, wardrobe, lamp\n"
     ]
    }
   ],
   "source": [
    "class House:\n",
    "    def __init__(self, location, floors, furnitures):\n",
    "        self.location = location \n",
    "        self.floors = floors      \n",
    "        self.furnitures = furnitures \n",
    "\n",
    "    def __str__(self):\n",
    "        return (f\"House in {self.location['city']}, {self.location['country']} on {self.location['street']} \"\n",
    "                f\"with {self.floors} floor(s) and furniture: {', '.join(self.furnitures)}\")\n",
    "\n",
    "\n",
    "house1 = House(\n",
    "    location={'country': 'Turkey', 'city': 'istanbul', 'street': 'beylikduzu'},\n",
    "    floors=2,\n",
    "    furnitures=['sofa', 'table', 'bed']\n",
    ")\n",
    "\n",
    "house2 = House(\n",
    "    location={'country': 'Turkey', 'city': 'izmit', 'street': '28devran caddesi'},\n",
    "    floors=3,\n",
    "    furnitures=['chair', 'wardrobe', 'lamp']\n",
    ")\n",
    "\n",
    "\n",
    "print(house1)\n",
    "print(house2)\n"
   ]
  },
  {
   "cell_type": "markdown",
   "id": "00aa9401",
   "metadata": {},
   "source": []
  }
 ],
 "metadata": {
  "kernelspec": {
   "display_name": "Python 3",
   "language": "python",
   "name": "python3"
  },
  "language_info": {
   "codemirror_mode": {
    "name": "ipython",
    "version": 3
   },
   "file_extension": ".py",
   "mimetype": "text/x-python",
   "name": "python",
   "nbconvert_exporter": "python",
   "pygments_lexer": "ipython3",
   "version": "3.12.1"
  }
 },
 "nbformat": 4,
 "nbformat_minor": 5
}
