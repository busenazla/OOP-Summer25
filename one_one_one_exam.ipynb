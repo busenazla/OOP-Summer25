{
 "cells": [
  {
   "cell_type": "code",
   "execution_count": 1,
   "id": "12dd754c",
   "metadata": {},
   "outputs": [
    {
     "name": "stdout",
     "output_type": "stream",
     "text": [
      "hello world\n"
     ]
    }
   ],
   "source": [
    "print(\"hello world\")"
   ]
  },
  {
   "cell_type": "code",
   "execution_count": null,
   "id": "bf3d3301",
   "metadata": {},
   "outputs": [
    {
     "name": "stdout",
     "output_type": "stream",
     "text": [
      "<class 'str'>\n"
     ]
    }
   ],
   "source": [
    "my_string = \"buse\"\n",
    "print(type(my_string))\n"
   ]
  },
  {
   "cell_type": "code",
   "execution_count": 5,
   "id": "23ae84dc",
   "metadata": {},
   "outputs": [
    {
     "name": "stdout",
     "output_type": "stream",
     "text": [
      "6\n",
      "<class 'int'>\n"
     ]
    }
   ],
   "source": [
    "x = 6\n",
    "print(x)\n",
    "print(type(x))"
   ]
  },
  {
   "cell_type": "code",
   "execution_count": 6,
   "id": "71249a04",
   "metadata": {},
   "outputs": [],
   "source": [
    "countries = [\"poland\",\"turkey\",\"italy\"]\n"
   ]
  },
  {
   "cell_type": "code",
   "execution_count": 22,
   "id": "08804737",
   "metadata": {},
   "outputs": [
    {
     "name": "stdout",
     "output_type": "stream",
     "text": [
      "This is my country: turkey\n"
     ]
    }
   ],
   "source": [
    "my_country = \"turkey\"\n",
    "for country in countries:\n",
    "  if country == my_country:\n",
    "   print(\"This is my country:\",country)"
   ]
  },
  {
   "cell_type": "code",
   "execution_count": 36,
   "id": "5dac9b63",
   "metadata": {},
   "outputs": [],
   "source": [
    "class Animal:\n",
    "    def __init__(self, name ,sound):\n",
    "       self.name = name\n",
    "       self.sound = sound "
   ]
  },
  {
   "cell_type": "code",
   "execution_count": 41,
   "id": "4215b7c2",
   "metadata": {},
   "outputs": [
    {
     "name": "stdout",
     "output_type": "stream",
     "text": [
      "animal1.name animal1.sound\n",
      "animal2.name animal2.sound\n"
     ]
    }
   ],
   "source": [
    "animal1 = Animal(\"lion\",\"roar\")\n",
    "animal2 = Animal(\"cat\",\"miyav\")\n",
    "print('animal1.name','animal1.sound')\n",
    "print('animal2.name','animal2.sound')"
   ]
  }
 ],
 "metadata": {
  "kernelspec": {
   "display_name": "Python 3",
   "language": "python",
   "name": "python3"
  },
  "language_info": {
   "codemirror_mode": {
    "name": "ipython",
    "version": 3
   },
   "file_extension": ".py",
   "mimetype": "text/x-python",
   "name": "python",
   "nbconvert_exporter": "python",
   "pygments_lexer": "ipython3",
   "version": "3.12.1"
  }
 },
 "nbformat": 4,
 "nbformat_minor": 5
}
